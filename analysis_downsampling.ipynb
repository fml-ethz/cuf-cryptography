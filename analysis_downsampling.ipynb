{
 "cells": [
  {
   "cell_type": "code",
   "execution_count": null,
   "metadata": {},
   "outputs": [],
   "source": [
    "import numpy as np\n",
    "import pandas as pd\n",
    "import plotly.express as px\n",
    "import plotly.graph_objects as pg\n",
    "from plotly.subplots import make_subplots\n",
    "import scipy.stats"
   ]
  },
  {
   "cell_type": "code",
   "execution_count": null,
   "metadata": {},
   "outputs": [],
   "source": [
    "def create_df(filepath):\n",
    "    df = pd.read_csv(filepath, sep=\",\")\n",
    "    overview = pd.DataFrame.from_dict({\n",
    "        'N': df.columns,\n",
    "        'mean': df.mean(axis=0),\n",
    "        'std': df.std(axis=0),\n",
    "        'p': [scipy.stats.ttest_1samp(df[val], popmean=0, alternative='greater').pvalue for val in df.columns],\n",
    "        'cfint': [scipy.stats.norm.interval(0.95, loc=df[val].mean(), scale=df[val].std())[1]-df[val].mean() for val in df.columns],\n",
    "        'p_single': [scipy.stats.norm.cdf(0, df[val].mean(), df[val].std()) for val in df.columns]\n",
    "    }).reset_index(drop=True)\n",
    "    return overview\n",
    "\n",
    "\n",
    "def create_plot(df):\n",
    "    fig = make_subplots(specs=[[{\"secondary_y\": True}]])\n",
    "\n",
    "    fig.add_trace(\n",
    "        pg.Bar(\n",
    "            x=df.N, \n",
    "            y=df['mean'],\n",
    "            error_y=dict(\n",
    "                type='data',\n",
    "                array=df['cfint'],\n",
    "                visible=True)\n",
    "        ),\n",
    "        secondary_y=False\n",
    "    )\n",
    "\n",
    "    fig.add_trace(\n",
    "        pg.Scatter(\n",
    "            x=df.N,\n",
    "            y=np.log10(df.p_single),\n",
    "        ),\n",
    "        secondary_y=True\n",
    "    )\n",
    "\n",
    "\n",
    "    fig.update_layout(\n",
    "        template=\"simple_white\", \n",
    "        height=240, \n",
    "        width=330, \n",
    "        showlegend=False, \n",
    "        margin=dict(l=0, r=40, t=5, b=0),\n",
    "        font_family=\"Inter\",\n",
    "        legend_font_size=28/3,\n",
    "    )\n",
    "    fig.update_xaxes(\n",
    "        title_text='Number of reads', \n",
    "        title_font_family=\"Inter\", \n",
    "        title_font_size=28/3, \n",
    "        tickfont_size=28/3, \n",
    "    )\n",
    "    fig.update_yaxes(\n",
    "        # range = [0, 1],\n",
    "        title_text='log(Probability of d≤0)', \n",
    "        # dtick=0.5, \n",
    "        title_font_family=\"Inter\", \n",
    "        title_font_size=28/3, \n",
    "        title_font_color='#ff7f0e',\n",
    "        tickfont_size=28/3, \n",
    "        tickfont_color='#ff7f0e',\n",
    "        tickcolor='#ff7f0e',\n",
    "        # minor_ticks=\"outside\", \n",
    "        # minor_dtick=0.25,\n",
    "        linecolor='#ff7f0e',\n",
    "        secondary_y=True\n",
    "    )\n",
    "    fig.update_yaxes(\n",
    "        # range = [-0.1, 0.15],\n",
    "        title_text='Distance (d)', \n",
    "        dtick=0.1, \n",
    "        title_font_family=\"Inter\", \n",
    "        title_font_size=28/3, \n",
    "        title_font_color='#1f77b4',\n",
    "        tickfont_size=28/3, \n",
    "        minor_ticks=\"outside\", \n",
    "        minor_dtick=0.05,\n",
    "        tickfont_color='#1f77b4',\n",
    "        tickcolor='#1f77b4',\n",
    "        linecolor='#1f77b4',\n",
    "        secondary_y=False\n",
    "    )\n",
    "    return fig"
   ]
  },
  {
   "attachments": {},
   "cell_type": "markdown",
   "metadata": {},
   "source": [
    "# Unconstrained case"
   ]
  },
  {
   "cell_type": "code",
   "execution_count": null,
   "metadata": {},
   "outputs": [],
   "source": [
    "overview = create_df(\"./results_downsampling/N30.csv\")\n",
    "overview.to_csv(\"./results_downsampling/N30_analysis.csv\", index=False)\n",
    "overview"
   ]
  },
  {
   "cell_type": "code",
   "execution_count": null,
   "metadata": {},
   "outputs": [],
   "source": [
    "fig = create_plot(overview)\n",
    "fig.show()\n",
    "fig.write_image(\"./results_downsampling/unconstrained.svg\")"
   ]
  },
  {
   "attachments": {},
   "cell_type": "markdown",
   "metadata": {},
   "source": [
    "# Constrained case"
   ]
  },
  {
   "cell_type": "code",
   "execution_count": null,
   "metadata": {},
   "outputs": [],
   "source": [
    "overview = create_df(\"./results_downsampling/N30_constrained.csv\")\n",
    "overview.to_csv(\"./results_downsampling/N30_constrained_analysis.csv\", index=False)\n",
    "overview"
   ]
  },
  {
   "cell_type": "code",
   "execution_count": null,
   "metadata": {},
   "outputs": [],
   "source": [
    "fig = create_plot(overview)\n",
    "fig.show()\n",
    "fig.write_image(\"./results_downsampling/constrained.svg\")"
   ]
  }
 ],
 "metadata": {
  "kernelspec": {
   "display_name": "np_pd_sp",
   "language": "python",
   "name": "python3"
  },
  "language_info": {
   "codemirror_mode": {
    "name": "ipython",
    "version": 3
   },
   "file_extension": ".py",
   "mimetype": "text/x-python",
   "name": "python",
   "nbconvert_exporter": "python",
   "pygments_lexer": "ipython3",
   "version": "3.9.7"
  },
  "orig_nbformat": 4
 },
 "nbformat": 4,
 "nbformat_minor": 2
}
