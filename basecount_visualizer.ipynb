{
 "cells": [
  {
   "cell_type": "code",
   "execution_count": null,
   "metadata": {},
   "outputs": [],
   "source": [
    "import numpy as np\n",
    "from Bio import SeqIO\n",
    "from PIL import Image"
   ]
  },
  {
   "cell_type": "code",
   "execution_count": null,
   "metadata": {},
   "outputs": [],
   "source": [
    "def display_fastq(filepath, imgpath):\n",
    "    all_reads = []\n",
    "    for rec in SeqIO.parse(filepath, \"fastq\"):\n",
    "        all_reads.append(str(rec.seq)[0:20])\n",
    "    results = []\n",
    "    base2numb = {\"A\":(0,0,255,0),\"C\":(128,0,255,0),\"G\":(0,255,0,0),\"T\":(158,34,0,0)}\n",
    "    for read in all_reads:\n",
    "        read_list=[]\n",
    "        for pos in read:\n",
    "            read_list.append(base2numb[pos])\n",
    "            read_list.append(base2numb[pos])\n",
    "            read_list.append(base2numb[pos])\n",
    "            read_list.append(base2numb[pos])\n",
    "            read_list.append(base2numb[pos])\n",
    "            read_list.append(base2numb[pos])\n",
    "            read_list.append(base2numb[pos])\n",
    "            read_list.append(base2numb[pos])\n",
    "        results.append(read_list)\n",
    " \n",
    "    \n",
    "    im_array = np.array(results,dtype=np.uint8)[0:160]\n",
    "\n",
    "    img = Image.fromarray(im_array, mode=\"CMYK\")\n",
    "    display(img.getpixel((0, 0)))\n",
    "  \n",
    "    img = img.save(imgpath) "
   ]
  },
  {
   "cell_type": "code",
   "execution_count": null,
   "metadata": {},
   "outputs": [],
   "source": [
    "display_fastq(\"./data/output_0_S1_L001_R1_001.fastq\", \"first_square_cmyk.jpeg\")"
   ]
  }
 ],
 "metadata": {
  "kernelspec": {
   "display_name": "Python 3 (ipykernel)",
   "language": "python",
   "name": "python3"
  },
  "language_info": {
   "codemirror_mode": {
    "name": "ipython",
    "version": 3
   },
   "file_extension": ".py",
   "mimetype": "text/x-python",
   "name": "python",
   "nbconvert_exporter": "python",
   "pygments_lexer": "ipython3",
   "version": "3.10.8"
  }
 },
 "nbformat": 4,
 "nbformat_minor": 2
}
