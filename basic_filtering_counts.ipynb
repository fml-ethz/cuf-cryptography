{
 "cells": [
  {
   "cell_type": "code",
   "execution_count": null,
   "metadata": {},
   "outputs": [],
   "source": [
    "from Bio import SeqIO\n",
    "from collections import Counter\n",
    "import csv"
   ]
  },
  {
   "cell_type": "code",
   "execution_count": null,
   "metadata": {},
   "outputs": [],
   "source": [
    "#filters reads in fastq file for occurrence of the constant primer segment at the correct position\n",
    "file = open(\"./data/Lib4-Sp1-G2-infw4-4-inrv5-4-1_S13_L001_R1_001.fastq\", \"rt\")\n",
    "\n",
    "output_reads = (\n",
    "    rec[0:21]\n",
    "    for rec in SeqIO.parse(file, \"fastq\")\n",
    "    if rec[21:].seq.startswith(\"GCTCAGGATACCAAGCTGTCC\")\n",
    ")\n",
    "#Save filtered reads in new fastq file\n",
    "filtered = SeqIO.write(output_reads, \"output_filtered.fastq\", \"fastq\")\n",
    "print(\"Saved %i reads\" % filtered)"
   ]
  },
  {
   "cell_type": "code",
   "execution_count": null,
   "metadata": {},
   "outputs": [],
   "source": [
    "#creates list of strings from fastq and writes them in text file\n",
    "with open(\"output_filtered.fastq\") as f:\n",
    "  seq_strings = [line.rstrip() for line in f if line.startswith(\"A\") or line.startswith(\"C\") or line.startswith(\"G\") or line.startswith(\"G\")]\n",
    "  \n",
    "textfile = open(\"output_filtered.txt\", \"w\")\n",
    "for element in seq_strings:\n",
    "  textfile.write(element + \"\\n\")"
   ]
  },
  {
   "cell_type": "code",
   "execution_count": null,
   "metadata": {},
   "outputs": [],
   "source": [
    "#Counts the occurrence of each string and generates .csv file with each 21-mer and its respective count\n",
    "input_file = 'output_filtered.txt'\n",
    "output_file = 'output_filtered_counts.csv'\n",
    "\n",
    "with open(input_file, 'r') as file:\n",
    "        string_list = file.read().splitlines()\n",
    "\n",
    "string_counts = Counter(string_list)\n",
    "\n",
    "with open(output_file, 'w', newline='') as file:\n",
    "        writer = csv.writer(file)\n",
    "        writer.writerows(string_counts.items())"
   ]
  }
 ],
 "metadata": {
  "kernelspec": {
   "display_name": "Python 3",
   "language": "python",
   "name": "python3"
  },
  "language_info": {
   "codemirror_mode": {
    "name": "ipython",
    "version": 3
   },
   "file_extension": ".py",
   "mimetype": "text/x-python",
   "name": "python",
   "nbconvert_exporter": "python",
   "pygments_lexer": "ipython3",
   "version": "3.10.8"
  },
  "orig_nbformat": 4
 },
 "nbformat": 4,
 "nbformat_minor": 2
}
