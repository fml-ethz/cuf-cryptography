{
 "cells": [
  {
   "cell_type": "code",
   "execution_count": null,
   "metadata": {},
   "outputs": [],
   "source": [
    "import numpy as np\n",
    "import pandas as pd\n",
    "import glob\n",
    "\n",
    "import analysis"
   ]
  },
  {
   "attachments": {},
   "cell_type": "markdown",
   "metadata": {},
   "source": [
    "# Read all files"
   ]
  },
  {
   "cell_type": "code",
   "execution_count": null,
   "metadata": {},
   "outputs": [],
   "source": [
    "all_files = glob.glob(\"./results/*.csv\")\n",
    "\n",
    "data = {}\n",
    "for file in all_files:\n",
    "    data[file.split(\"\\\\\")[1]] = np.genfromtxt(file, delimiter=\",\")"
   ]
  },
  {
   "attachments": {},
   "cell_type": "markdown",
   "metadata": {},
   "source": [
    "# Optimize for all experiments"
   ]
  },
  {
   "cell_type": "code",
   "execution_count": null,
   "metadata": {},
   "outputs": [],
   "source": [
    "full_positive_matrix, full_negative_matrix = analysis.generate_truthtables()\n",
    "\n",
    "all_data = []\n",
    "for i, dat in data.items():\n",
    "\n",
    "    posdata = np.where(full_positive_matrix, dat, np.nan)\n",
    "    negdata = np.where(full_negative_matrix, dat, np.nan)\n",
    "\n",
    "    threshold_width = np.nanmin(posdata) - np.nanmax(negdata)\n",
    "    threshold_mid = (np.nanmin(posdata) + np.nanmax(negdata))/2\n",
    "    all_data.append([threshold_width, threshold_mid,  i, dat])\n",
    "sorted_data = list(sorted(all_data, key=lambda x: x[0], reverse=True))\n",
    "\n",
    "\n",
    "for i in range(5):\n",
    "    analysis.plot_hists(sorted_data[i][3], full_positive_matrix, full_negative_matrix, title=sorted_data[i][2]).show()\n",
    "    analysis.plot_matrix(sorted_data[i][3]).show()"
   ]
  },
  {
   "attachments": {},
   "cell_type": "markdown",
   "metadata": {},
   "source": [
    "### Performance of parameters"
   ]
  },
  {
   "cell_type": "code",
   "execution_count": null,
   "metadata": {},
   "outputs": [],
   "source": [
    "fig = analysis.reference_matrix(full_positive_matrix, full_negative_matrix)\n",
    "fig.show()\n",
    "fig.write_image(\"./results_analysis/unconstrained_reference_matrix.svg\")"
   ]
  },
  {
   "cell_type": "code",
   "execution_count": null,
   "metadata": {},
   "outputs": [],
   "source": [
    "params = [\n",
    "    [6, 8, 10],\n",
    "    [\"linear\", \"log\", \"none\"],\n",
    "    [\"0-5\", \"0-7\", \"0-9\"]\n",
    "]\n",
    "parameters = [f\"KMR{k}_WGT{w}_TSH{t}\" for k in params[0] for w in params[1] for t in params[2]]\n",
    "\n",
    "for param in parameters:\n",
    "    idata = data[f\"{param}.csv\"]\n",
    "\n",
    "    fig = analysis.plot_hists(idata, full_positive_matrix, full_negative_matrix, title=param)\n",
    "    # fig.show()\n",
    "    fig.write_image(f\"./results_analysis/unconstrained_{param}_hist.svg\")\n",
    "    fig = analysis.plot_matrix(idata)\n",
    "    # fig.show()\n",
    "    fig.write_image(f\"./results_analysis/unconstrained_{param}_matrix.svg\")"
   ]
  },
  {
   "attachments": {},
   "cell_type": "markdown",
   "metadata": {},
   "source": [
    "# Constrained case"
   ]
  },
  {
   "cell_type": "code",
   "execution_count": null,
   "metadata": {},
   "outputs": [],
   "source": [
    "to_exclude = set([16, 17, 18, 19, 20, 21, 22, 23, 24, 27, 28, 33, 34, 37, 38])\n",
    "constrained_positive_matrix, constrained_negative_matrix = analysis.generate_truthtables(to_exclude)"
   ]
  },
  {
   "cell_type": "code",
   "execution_count": null,
   "metadata": {},
   "outputs": [],
   "source": [
    "fig = analysis.reference_matrix(constrained_positive_matrix, constrained_negative_matrix)\n",
    "fig.show()\n",
    "fig.write_image(\"./results_analysis/constrained_reference_matrix.svg\")"
   ]
  },
  {
   "attachments": {},
   "cell_type": "markdown",
   "metadata": {},
   "source": [
    "### Performance of parameters"
   ]
  },
  {
   "cell_type": "code",
   "execution_count": null,
   "metadata": {},
   "outputs": [],
   "source": [
    "params = [8, \"linear\", \"0-7\"]\n",
    "param_string = f\"KMR{params[0]}_WGT{params[1]}_TSH{params[2]}\"\n",
    "\n",
    "fig = analysis.plot_hists(data[f\"{param_string}.csv\"], constrained_positive_matrix, constrained_negative_matrix, title=param_string)\n",
    "fig.show()\n",
    "fig.write_image(f\"./results_analysis/constrained_{param_string}_hist.svg\")\n",
    "fig = analysis.plot_matrix(data[f\"{param_string}.csv\"])\n",
    "fig.show()\n",
    "fig.write_image(f\"./results_analysis/constrained_{param_string}_matrix.svg\")"
   ]
  }
 ],
 "metadata": {
  "kernelspec": {
   "display_name": "np_pd_sp",
   "language": "python",
   "name": "python3"
  },
  "language_info": {
   "codemirror_mode": {
    "name": "ipython",
    "version": 3
   },
   "file_extension": ".py",
   "mimetype": "text/x-python",
   "name": "python",
   "nbconvert_exporter": "python",
   "pygments_lexer": "ipython3",
   "version": "3.9.7"
  },
  "orig_nbformat": 4,
  "vscode": {
   "interpreter": {
    "hash": "da8130b5c8ccf41f100662caf67f3ba756beedabd599674f9119b95438e5e458"
   }
  }
 },
 "nbformat": 4,
 "nbformat_minor": 2
}
